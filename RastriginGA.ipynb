{
 "cells": [
  {
   "cell_type": "markdown",
   "id": "6ad1ddd6-05ad-4939-98ea-20c77c755480",
   "metadata": {},
   "source": [
    "# Rastrigin Function with GA"
   ]
  },
  {
   "cell_type": "code",
   "execution_count": 1,
   "id": "526ad44e-d480-4969-aa83-0491b9250a5e",
   "metadata": {},
   "outputs": [],
   "source": [
    "# Imports\n",
    "import random\n",
    "import math\n",
    "import matplotlib.pyplot as plt\n",
    "import copy"
   ]
  },
  {
   "cell_type": "code",
   "execution_count": 2,
   "id": "9fc36195-e589-430a-a4dd-36dd4437e92b",
   "metadata": {},
   "outputs": [],
   "source": [
    "# Implements a Rastrigin function with cache\n",
    "def rastrigin (x):\n",
    "    global computationalBudgetUsage\n",
    "    global rastriginCache\n",
    "    \n",
    "    # This cache was implemented to reduce computational budget usage\n",
    "    if str(x) in rastriginCache.keys():\n",
    "        return rastriginCache[str(x)]\n",
    "    \n",
    "    computationalBudgetUsage = computationalBudgetUsage + 1\n",
    "    f = 10 * len(x)\n",
    "    for i in range(len(x)):\n",
    "        f = f + math.pow (x[i],2) - 10 * math.cos(2 * math.pi * x[i])\n",
    "    \n",
    "    rastriginCache[str(x)] = f    \n",
    "    return f"
   ]
  },
  {
   "cell_type": "code",
   "execution_count": 3,
   "id": "eccebad3-6763-4ae5-a7a1-efba35b58f59",
   "metadata": {},
   "outputs": [],
   "source": [
    "# Binary to Gray\n",
    "def binaryToGray (binary):\n",
    "    gray = [0]*len(binary)\n",
    "    gray[0] = binary[0]\n",
    "    for i in range(1, len(binary)):\n",
    "        gray[i] = str(int(binary[i-1]) ^ int(binary[i]))\n",
    "    return gray"
   ]
  },
  {
   "cell_type": "code",
   "execution_count": 4,
   "id": "6b52fc85-107d-406b-acee-9a0042ab8415",
   "metadata": {},
   "outputs": [],
   "source": [
    "# Gray to Binary\n",
    "def grayToBinary (gray):\n",
    "    binary = [0]*len(gray)\n",
    "    binary[0] = gray[0]\n",
    "    for i in range(1, len(gray)):\n",
    "        binary[i] = str(int(binary[i-1]) ^ int(gray[i]))\n",
    "    return binary"
   ]
  },
  {
   "cell_type": "code",
   "execution_count": 5,
   "id": "bbad3168-ff5c-497b-8000-982f09cc1c6f",
   "metadata": {},
   "outputs": [],
   "source": [
    "# Float to Binary\n",
    "def floatToBinary (aFloat):   \n",
    "    deltax = (variableLimitsMax - variableLimitsMin) / ( math.pow(2, bitsResolution) - 1 )\n",
    "    valueScaled = int ((aFloat - variableLimitsMin) / deltax)\n",
    "    valueBinary = (format(int(valueScaled), 'b')).zfill(bitsResolution)\n",
    "    return valueBinary"
   ]
  },
  {
   "cell_type": "code",
   "execution_count": 6,
   "id": "ff134a3d-7bbd-4806-87b5-6f957ad3e666",
   "metadata": {},
   "outputs": [],
   "source": [
    "# Binary to Float\n",
    "def binaryToFloat (binary):\n",
    "    k = 0\n",
    "    for j in range(bitsResolution):\n",
    "        k = k + int(binary[j]) * math.pow(2, bitsResolution - j - 1)\n",
    "    floatValue = variableLimitsMin + (variableLimitsMax - variableLimitsMin) * ( k / (math.pow(2, bitsResolution) - 1) )\n",
    "    return floatValue"
   ]
  },
  {
   "cell_type": "code",
   "execution_count": 7,
   "id": "d9f99d6c-006b-445e-8c37-0dae7caecb0e",
   "metadata": {},
   "outputs": [],
   "source": [
    "# Create a random individual\n",
    "def randomIndividual():\n",
    "    return ''.join(random.choice(['0','1']) for x in range(bitsResolution*variablesNumber))"
   ]
  },
  {
   "cell_type": "code",
   "execution_count": 8,
   "id": "71ec6658-4f8d-49c8-8561-13ca3bb44c97",
   "metadata": {},
   "outputs": [],
   "source": [
    "# Get the number of a individual for the rastrigin function\n",
    "def getNumbers(individual):\n",
    "    numbersList = []\n",
    "    splitlen = -(-len(individual) // variablesNumber)\n",
    "    for number in ( [individual[ind:ind+splitlen] for ind in range(0, len(individual), splitlen)] ):\n",
    "        binNumber = grayToBinary(number)\n",
    "        numbersList.append (binaryToFloat(binNumber))\n",
    "    return numbersList"
   ]
  },
  {
   "cell_type": "code",
   "execution_count": 9,
   "id": "af5ee934-e7cc-40b2-8bfb-a67433438b77",
   "metadata": {},
   "outputs": [],
   "source": [
    "# Function that returns the fitness according to rastrigin\n",
    "def fitness(individual):\n",
    "    return rastrigin(getNumbers(individual))"
   ]
  },
  {
   "cell_type": "code",
   "execution_count": 10,
   "id": "2620910a-6937-4229-ab1f-288569503652",
   "metadata": {},
   "outputs": [],
   "source": [
    "# Tournament selection\n",
    "def tournament(population, k):\n",
    "    candidate1 = copy.deepcopy(population[random.randrange(len(population))])\n",
    "    for i in range(k):\n",
    "        while True:\n",
    "            candidate2 = copy.deepcopy(population[random.randrange(len(population))])\n",
    "            if candidate1 != candidate2:\n",
    "                break\n",
    "    if fitness(candidate2) > fitness(candidate1):\n",
    "        return candidate2\n",
    "    else:\n",
    "        return candidate1"
   ]
  },
  {
   "cell_type": "code",
   "execution_count": 11,
   "id": "29bbbf5e-ad92-402b-ba0d-c9d0ec13a231",
   "metadata": {},
   "outputs": [],
   "source": [
    "# Roulette wheel\n",
    "def rouletteWheel(population):\n",
    "    # Create roulette\n",
    "    roulette = []\n",
    "    totalFitness = 0\n",
    "    maxFitness = fitness(population[0])\n",
    "    for i in range(len(population)):\n",
    "        if fitness(population[i]) > maxFitness:\n",
    "            maxFitness = fitness(population[i])\n",
    "    maxFitness = maxFitness + 1\n",
    "    for i in range(len(population)):\n",
    "        totalFitness = totalFitness + (maxFitness - fitness(population[i]))\n",
    "    roulettePoint = 0\n",
    "    for i in range(len(population)):\n",
    "        roulette.append ( ((maxFitness - fitness(population[i]))/totalFitness) + roulettePoint )\n",
    "        roulettePoint = roulette[i]\n",
    "    return roulette"
   ]
  },
  {
   "cell_type": "code",
   "execution_count": 12,
   "id": "9581299a-cfbe-451a-87ff-25218bd6fe95",
   "metadata": {},
   "outputs": [],
   "source": [
    "# Roulette wheel selection\n",
    "def rouletteWheelSelection(population, roulette):\n",
    "    randRoulette = random.random()\n",
    "    for i in range(len(population)):\n",
    "        if roulette[i] > randRoulette:\n",
    "            return copy.deepcopy(population[i])"
   ]
  },
  {
   "cell_type": "code",
   "execution_count": 13,
   "id": "427a30aa-e9f9-489d-9dcf-e028dab32ae6",
   "metadata": {},
   "outputs": [],
   "source": [
    "# Crossover\n",
    "def crossover(parent1, parent2, numberOfCuts):\n",
    "    cuts = []\n",
    "    for i in range(numberOfCuts):\n",
    "        cuts.append(random.randrange(len(parent1)))\n",
    "    cuts.sort()\n",
    "    \n",
    "    child1 = parent1[0:cuts[0]]\n",
    "    child2 = parent2[0:cuts[0]]\n",
    "    for i in range(1, numberOfCuts):\n",
    "        if i % 2 == 0:\n",
    "            child1 = child1 + parent1[cuts[i-1]:cuts[i]]\n",
    "            child2 = child2 + parent2[cuts[i-1]:cuts[i]]\n",
    "        else:\n",
    "            child1 = child1 + parent2[cuts[i-1]:cuts[i]]\n",
    "            child2 = child2 + parent1[cuts[i-1]:cuts[i]]\n",
    "    \n",
    "    \n",
    "    if numberOfCuts % 2 == 0:\n",
    "        child1 = child1 + parent1[cuts[numberOfCuts-1]:]\n",
    "        child2 = child2 + parent2[cuts[numberOfCuts-1]:]\n",
    "    else:\n",
    "        child1 = child1 + parent2[cuts[numberOfCuts-1]:]\n",
    "        child2 = child2 + parent1[cuts[numberOfCuts-1]:]\n",
    "    \n",
    "    return child1, child2"
   ]
  },
  {
   "cell_type": "code",
   "execution_count": 14,
   "id": "1c8bf449-a00d-497b-92f7-878bb3f8aa03",
   "metadata": {},
   "outputs": [],
   "source": [
    "# Sort population\n",
    "def sortPopulation(population):\n",
    "    population.sort(key=lambda x: fitness(x), reverse=False)\n",
    "    return population"
   ]
  },
  {
   "cell_type": "code",
   "execution_count": 15,
   "id": "ce184dae-784a-4eaf-845a-a721156caad9",
   "metadata": {},
   "outputs": [],
   "source": [
    "# Mutation flip bit\n",
    "def mutateFlipBit(individual):\n",
    "    individualList = list(individual)\n",
    "    for flips in range(random.randrange(maxNumberOfRandFlips)):\n",
    "        randFlip = random.randrange(len(individual))\n",
    "        if individualList[randFlip] == '0':\n",
    "            individualList[randFlip] = '1'\n",
    "        else:\n",
    "            individualList[randFlip] = '0'\n",
    "    newIndividual = ''.join(individualList)\n",
    "    return copy.deepcopy(newIndividual)"
   ]
  },
  {
   "cell_type": "code",
   "execution_count": 22,
   "id": "d56885ed-7cef-4f12-8756-794707844b94",
   "metadata": {},
   "outputs": [],
   "source": [
    "# Definitions 1\n",
    "rastriginVariables = 10\n",
    "bitsResolution = 10\n",
    "variablesNumber = 10\n",
    "variableLimitsMin = -5.12\n",
    "variableLimitsMax = 5.12\n",
    "halfPopulationSize = 100 # Half population of a generation\n",
    "generations = 1000 # How many generations\n",
    "tournamentRounds = 1 # Rounds of tournament selection\n",
    "crossOverCutofPoints = 10\n",
    "chanceToMutate = 0.4 # Probability to mutate\n",
    "maxNumberOfRandFlips = 5 # How many positions can be fliped\n",
    "computationalBudget = 10000 # The computational budget is 10,000 fitness function evaluations.\n",
    "\n",
    "selectBest = 0.9 # Next generation selection \"Best\"\n",
    "selectTournament = 0.1 # Next generation selection \"Tournament\"\n",
    "selectRandom = 0 # Next generation selection \"Generate Random\"\n",
    "# Best fitness = {Found a Rastrigin solution with fitness 2.2206 on generation 86}"
   ]
  },
  {
   "cell_type": "code",
   "execution_count": 34,
   "id": "13107f6f-2024-469b-9734-2b435aabd17f",
   "metadata": {},
   "outputs": [],
   "source": [
    "# Definitions 2\n",
    "halfPopulationSize = 150 # Half population of a generation\n",
    "generations = 500 # How many generations\n",
    "tournamentRounds = 2 # Rounds of tournament selection\n",
    "crossOverCutofPoints = 10\n",
    "chanceToMutate = 0.2 # Probability to mutate\n",
    "maxNumberOfRandFlips = 5 # How many positions can be fliped\n",
    "computationalBudget = 10000 # The computational budget is 10,000 fitness function evaluations.\n",
    "\n",
    "selectBest = 0.9 # Next generation selection \"Best\"\n",
    "selectTournament = 0.1 # Next generation selection \"Tournament\"\n",
    "selectRandom = 0 # Next generation selection \"Generate Random\"\n",
    "# Best fitness = {Found a Rastrigin solution with fitness 4.1134 on generation 63}"
   ]
  },
  {
   "cell_type": "code",
   "execution_count": 46,
   "id": "49f78386-2f04-48f3-b239-0ce3ce93c343",
   "metadata": {},
   "outputs": [],
   "source": [
    "# Definitions 2\n",
    "halfPopulationSize = 200 # Half population of a generation\n",
    "generations = 100 # How many generations\n",
    "tournamentRounds = 2 # Rounds of tournament selection\n",
    "crossOverCutofPoints = 10\n",
    "chanceToMutate = 0.2 # Probability to mutate\n",
    "maxNumberOfRandFlips = 5 # How many positions can be fliped\n",
    "computationalBudget = 10000 # The computational budget is 10,000 fitness function evaluations.\n",
    "\n",
    "selectBest = 0.9 # Next generation selection \"Best\"\n",
    "selectTournament = 0.1 # Next generation selection \"Tournament\"\n",
    "selectRandom = 0 # Next generation selection \"Generate Random\"\n",
    "# Best fitness = {Found a Rastrigin solution with fitness 1.6188 on generation 46}"
   ]
  },
  {
   "cell_type": "markdown",
   "id": "1a851be4-d759-4396-9b17-9fe10b14cee2",
   "metadata": {},
   "source": [
    "# Evaluation"
   ]
  },
  {
   "cell_type": "code",
   "execution_count": 43,
   "id": "856fd908-8821-4d33-ae5a-8427c1a59ff4",
   "metadata": {},
   "outputs": [],
   "source": [
    "# Generate half initial random population\n",
    "# Phenotype representation as binary\n",
    "population = []\n",
    "for individual in list(range(halfPopulationSize)):\n",
    "    population.append(randomIndividual())"
   ]
  },
  {
   "cell_type": "code",
   "execution_count": 44,
   "id": "59897ffb-3c50-4351-8183-4a4a81abfa3c",
   "metadata": {},
   "outputs": [],
   "source": [
    "# Main generations loop\n",
    "genFitnessLog = []\n",
    "computationalBudgetUsage = 0\n",
    "rastriginCache = {}\n",
    "actualCrossOverCutofPoints = crossOverCutofPoints\n",
    "actualChanceToMutate = chanceToMutate\n",
    "random.seed()\n",
    "\n",
    "for gen in range(generations):\n",
    "    \n",
    "    # Check if we still have budget\n",
    "    if computationalBudgetUsage + halfPopulationSize > computationalBudget:\n",
    "        break\n",
    "    \n",
    "    # Create roulette whell for population\n",
    "    roulette = rouletteWheel(population)\n",
    "    \n",
    "    # Crossover population until it reaches full size\n",
    "    while len(population) <  + halfPopulationSize * 2:\n",
    "        parent1 = ''\n",
    "        parent2 = ''\n",
    "        \n",
    "        if random.random() < 0.5:\n",
    "            parent1 = tournament(population, tournamentRounds)\n",
    "        else:\n",
    "            parent1 = rouletteWheelSelection(population, roulette)\n",
    "        \n",
    "        if random.random() < 0.5:\n",
    "            parent2 = tournament(population, tournamentRounds)\n",
    "        else:\n",
    "            parent2 = rouletteWheelSelection(population, roulette)\n",
    "        \n",
    "        child1, child2 = crossover(parent1, parent2, actualCrossOverCutofPoints)\n",
    "        population.append(child1)\n",
    "        population.append(child2)\n",
    "\n",
    "    # Mutate some individuals\n",
    "    for i in range(len(population)):\n",
    "        if random.random() <= actualChanceToMutate:\n",
    "            population[i] = mutateFlipBit(population[i])\n",
    "\n",
    "    # Sort population according to fitness\n",
    "    population = sortPopulation(population)\n",
    "\n",
    "    # Print generation fitness\n",
    "    genFitness = fitness(population[0])\n",
    "    genFitnessLog.append(genFitness)\n",
    "    #print('Gen %i fitness 0=%.4f (Budget %i)' %(gen, genFitness, computationalBudgetUsage))\n",
    "\n",
    "    # Next generation\n",
    "    newPopulation = []\n",
    "    # Keep some of the best\n",
    "    for i in range(int(halfPopulationSize * selectBest)):\n",
    "        newPopulation.append((population[i]))\n",
    "    # Use tournament to get some more\n",
    "    for i in range(int(halfPopulationSize * selectTournament)):\n",
    "        newPopulation.append((tournament(population, tournamentRounds)))\n",
    "    # Generate some randoms\n",
    "    for i in range(int(halfPopulationSize * selectRandom)):\n",
    "        newPopulation.append((randomIndividual()))\n",
    "    \n",
    "    # Decay parameters\n",
    "    actualCrossOverCutofPoints = 1 + int(crossOverCutofPoints - ((computationalBudgetUsage / computationalBudget) * crossOverCutofPoints / 2) )\n",
    "    actualChanceToMutate = (chanceToMutate - ((computationalBudgetUsage / computationalBudget ) / 3) )\n",
    "    \n",
    "    population = newPopulation    "
   ]
  },
  {
   "cell_type": "code",
   "execution_count": 45,
   "id": "0d977458-1eb2-462c-a052-513578c60cfe",
   "metadata": {},
   "outputs": [
    {
     "name": "stdout",
     "output_type": "stream",
     "text": [
      "Found a Rastrigin solution with fitness 1.6188 on generation 46\n",
      "---\n",
      "x* = 0.0050 -0.0150 0.0150 0.0250 -0.0050 0.0350 0.0050 1.0060 0.0050 0.0250 \n",
      "f* = 1.6188\n",
      "Total number of calls (or evaluations) of the fitness function: 9845\n",
      "---\n"
     ]
    },
    {
     "data": {
      "image/png": "[encoded data removed]",
      "text/plain": [
       "<Figure size 640x480 with 1 Axes>"
      ]
     },
     "metadata": {},
     "output_type": "display_data"
    }
   ],
   "source": [
    "# Show results\n",
    "print('Found a Rastrigin solution with fitness %.4f on generation %i' %(fitness(population[0]), len(genFitnessLog)))\n",
    "print('---')\n",
    "print(\"x* = \" + \"%.4f \"*len(getNumbers(population[0])) % tuple(getNumbers(population[0])))\n",
    "print(\"f* = %.4f\" %(rastrigin(getNumbers(population[0]))) )\n",
    "print(\"Total number of calls (or evaluations) of the fitness function: %i\" %computationalBudgetUsage)\n",
    "print('---')\n",
    "# Plot evolution\n",
    "plt.plot(genFitnessLog)\n",
    "plt.title('Evolution')\n",
    "plt.ylabel('Rastrigin f(x)*')\n",
    "plt.xlabel('Generations')\n",
    "plt.show()"
   ]
  }
 ],
 "metadata": {
  "kernelspec": {
   "display_name": "Python 3 (ipykernel)",
   "language": "python",
   "name": "python3"
  },
  "language_info": {
   "codemirror_mode": {
    "name": "ipython",
    "version": 3
   },
   "file_extension": ".py",
   "mimetype": "text/x-python",
   "name": "python",
   "nbconvert_exporter": "python",
   "pygments_lexer": "ipython3",
   "version": "3.12.2"
  }
 },
 "nbformat": 4,
 "nbformat_minor": 5
}
